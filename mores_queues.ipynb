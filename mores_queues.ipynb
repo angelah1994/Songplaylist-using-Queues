{
  "nbformat": 4,
  "nbformat_minor": 0,
  "metadata": {
    "colab": {
      "provenance": [],
      "authorship_tag": "ABX9TyNCK6SP2LKt8RTNB5Htu17Z",
      "include_colab_link": true
    },
    "kernelspec": {
      "name": "python3",
      "display_name": "Python 3"
    },
    "language_info": {
      "name": "python"
    }
  },
  "cells": [
    {
      "cell_type": "markdown",
      "metadata": {
        "id": "view-in-github",
        "colab_type": "text"
      },
      "source": [
        "<a href=\"https://colab.research.google.com/github/angelah1994/Songplaylist-using-Queues/blob/main/mores_queues.ipynb\" target=\"_parent\"><img src=\"https://colab.research.google.com/assets/colab-badge.svg\" alt=\"Open In Colab\"/></a>"
      ]
    },
    {
      "cell_type": "code",
      "execution_count": 15,
      "metadata": {
        "id": "kGZeMJLaVxPu"
      },
      "outputs": [],
      "source": [
        "import threading\n",
        "from collections import deque\n",
        "import time"
      ]
    },
    {
      "cell_type": "code",
      "source": [
        "class Queue:\n",
        "  def __init__(self):\n",
        "    self.buffer = deque()\n",
        "\n",
        "  def enqueue(self, val):\n",
        "    self.buffer.appendleft(val)\n",
        "  def dequeue(self):\n",
        "    if len(self.buffer) == 0:\n",
        "      print(\"The Queue is empty\")\n",
        "      return None\n",
        "    return self.buffer.pop()\n",
        "\n",
        "  def is_empty(self):\n",
        "    return len(self.buffer) == 0\n",
        "  def size(self):\n",
        "    return len(self.buffer)\n",
        "  def front(self):\n",
        "    return self.buffer[-1]\n",
        "\n"
      ],
      "metadata": {
        "id": "ELkbqGXnWF9p"
      },
      "execution_count": 16,
      "outputs": []
    },
    {
      "cell_type": "code",
      "source": [
        "orders_queue = Queue()\n",
        "\n",
        "def place_order(orders):\n",
        "  for order in orders:\n",
        "    print(\"Placing order for:\",order)\n",
        "    orders_queue.enqueue(order)\n",
        "    time.sleep(0.5)\n",
        "\n",
        "def serve_order():\n",
        "  time.sleep(1)\n",
        "  order = orders_queue.dequeue()\n",
        "  print(\"Now serving: \",order)\n",
        "  time.sleep(2)\n",
        "\n",
        "if __name__ ==\"__main__\":\n",
        "\n",
        "  orders = ['Pizza', 'Biryani', 'Cupcakes', 'Chapati']\n",
        "  t1 = threading.Thread(target=place_order, args=(orders,))\n",
        "  t2 = threading.Thread(target=serve_order)\n",
        "\n",
        "  t1.start()\n",
        "  t2.start()"
      ],
      "metadata": {
        "colab": {
          "base_uri": "https://localhost:8080/"
        },
        "id": "Jvf3GKbTXM-5",
        "outputId": "16b79017-781b-4dd5-b3ec-2d49c24b157b"
      },
      "execution_count": 17,
      "outputs": [
        {
          "output_type": "stream",
          "name": "stdout",
          "text": [
            "Placing order for: Pizza\n"
          ]
        }
      ]
    },
    {
      "cell_type": "code",
      "source": [
        "def print_binary_numbers(n):\n",
        "  number_queue = Queue()\n",
        "  number_queue.enqueue(\"1\")\n",
        "\n",
        "  for i in range(n):\n",
        "    front = number_queue.front()\n",
        "    print(\"  \",  front)\n",
        "\n",
        "    number_queue.enqueue(front + \"0\")\n",
        "    number_queue.enqueue(front + \"1\")\n",
        "\n",
        "    number_queue.dequeue()\n",
        "\n",
        "if __name__ ==\"__main__\":\n",
        "  print_binary_numbers(20)\n"
      ],
      "metadata": {
        "colab": {
          "base_uri": "https://localhost:8080/"
        },
        "id": "UPEeLGrmZLdw",
        "outputId": "4979020a-7320-45e6-cb71-ac81d7f444c8"
      },
      "execution_count": 18,
      "outputs": [
        {
          "output_type": "stream",
          "name": "stdout",
          "text": [
            "   1\n",
            "   10\n",
            "   11\n",
            "   100\n",
            "   101\n",
            "   110\n",
            "   111\n",
            "   1000\n",
            "   1001\n",
            "   1010\n",
            "   1011\n",
            "   1100\n",
            "   1101\n",
            "   1110\n",
            "   1111\n",
            "   10000\n",
            "   10001\n",
            "   10010\n",
            "   10011\n",
            "   10100\n"
          ]
        }
      ]
    }
  ]
}