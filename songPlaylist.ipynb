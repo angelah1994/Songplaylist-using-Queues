{
  "nbformat": 4,
  "nbformat_minor": 0,
  "metadata": {
    "colab": {
      "provenance": [],
      "authorship_tag": "ABX9TyOV3Ej2ag/J3xJDaD697pfq",
      "include_colab_link": true
    },
    "kernelspec": {
      "name": "python3",
      "display_name": "Python 3"
    },
    "language_info": {
      "name": "python"
    }
  },
  "cells": [
    {
      "cell_type": "markdown",
      "metadata": {
        "id": "view-in-github",
        "colab_type": "text"
      },
      "source": [
        "<a href=\"https://colab.research.google.com/github/angelah1994/Songplaylist-using-Queues/blob/main/songPlaylist.ipynb\" target=\"_parent\"><img src=\"https://colab.research.google.com/assets/colab-badge.svg\" alt=\"Open In Colab\"/></a>"
      ]
    },
    {
      "cell_type": "code",
      "execution_count": 1,
      "metadata": {
        "id": "i3p7705QOXPb"
      },
      "outputs": [],
      "source": [
        "from collections import deque"
      ]
    },
    {
      "cell_type": "code",
      "source": [
        "class Queue:\n",
        "  def __init__(self):\n",
        "    self.buffer = deque()\n",
        "  def enqueue(self, song):\n",
        "    self.buffer.appendleft(song)\n",
        "    print(f\"Added {song} to the playlist\")\n",
        "  def dequeue(self):\n",
        "    if len(self.buffer) == 0:\n",
        "      print(\" The Queue is empty\")\n",
        "      return None\n",
        "    return self.buffer.pop()\n",
        "  def is_empty(self):\n",
        "    return len(self.buffer) == 0\n",
        "  def size(self):\n",
        "    return len(self.buffer)\n",
        "\n",
        "\n",
        ""
      ],
      "metadata": {
        "id": "Fh_pjfgJOnoB"
      },
      "execution_count": 7,
      "outputs": []
    },
    {
      "cell_type": "code",
      "source": [
        "def manage_playlist():\n",
        "  playlist = Queue()\n",
        "\n",
        "  #Add songs to the playlist\n",
        "  songs = [\"Song A\", \"Song B\", \"Song C\", \"Song D\"]\n",
        "  for song in songs:\n",
        "    playlist.enqueue(song)\n",
        "    print(f\"current playlist size: {playlist.size()}\")\n",
        "    print()\n",
        "\n",
        "  #play songs in order\n",
        "  print(\"Playing songs fro the Playlist...\\n\")\n",
        "  while not playlist.is_empty():\n",
        "    next_song = playlist.dequeue()\n",
        "    if next_song:\n",
        "      print(f\"Now playing: [next_song]\")\n",
        "      print(f\"Remaining songs in the playlist: {playlist.size()}\")\n",
        "      print()\n",
        "\n",
        "if __name__ ==\"__main__\":\n",
        "  manage_playlist()\n"
      ],
      "metadata": {
        "colab": {
          "base_uri": "https://localhost:8080/"
        },
        "id": "qf5MTJocPwMt",
        "outputId": "62af1b7e-0fad-4e18-b8ae-8de8411b6fb1"
      },
      "execution_count": 8,
      "outputs": [
        {
          "output_type": "stream",
          "name": "stdout",
          "text": [
            "Added Song A to the playlist\n",
            "current playlist size: 1\n",
            "\n",
            "Added Song B to the playlist\n",
            "current playlist size: 2\n",
            "\n",
            "Added Song C to the playlist\n",
            "current playlist size: 3\n",
            "\n",
            "Added Song D to the playlist\n",
            "current playlist size: 4\n",
            "\n",
            "Playing songs fro the Playlist...\n",
            "\n",
            "Now playing: [next_song]\n",
            "Remaining songs in the playlist: 3\n",
            "\n",
            "Now playing: [next_song]\n",
            "Remaining songs in the playlist: 2\n",
            "\n",
            "Now playing: [next_song]\n",
            "Remaining songs in the playlist: 1\n",
            "\n",
            "Now playing: [next_song]\n",
            "Remaining songs in the playlist: 0\n",
            "\n"
          ]
        }
      ]
    }
  ]
}